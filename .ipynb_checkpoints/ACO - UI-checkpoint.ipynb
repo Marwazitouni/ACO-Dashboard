{
 "cells": [
  {
   "cell_type": "markdown",
   "metadata": {},
   "source": [
    "![title](esg2e.png)"
   ]
  },
  {
   "cell_type": "code",
   "execution_count": 16,
   "metadata": {
    "ExecuteTime": {
     "end_time": "2022-04-08T23:04:31.540316Z",
     "start_time": "2022-04-08T23:04:31.528058Z"
    },
    "code_folding": []
   },
   "outputs": [
    {
     "name": "stdout",
     "output_type": "stream",
     "text": [
      "The autoreload extension is already loaded. To reload it, use:\n",
      "  %reload_ext autoreload\n"
     ]
    }
   ],
   "source": [
    "#Imports\n",
    "import os\n",
    "import numpy as np\n",
    "import matplotlib.pyplot as plt\n",
    "import pandas as pd \n",
    "\n",
    "from ant_colony import AntColony\n",
    "from aco_reader import *\n",
    "from helper_functions import *\n",
    "\n",
    "from tqdm import tqdm\n",
    "\n",
    "import ipywidgets as widgets\n",
    "from ipywidgets import interact, interact_manual\n",
    "''' CTRL + ENTER '''\n",
    "%load_ext autoreload\n",
    "%autoreload 2 "
   ]
  },
  {
   "cell_type": "code",
   "execution_count": 25,
   "metadata": {
    "ExecuteTime": {
     "end_time": "2022-04-08T23:09:18.870167Z",
     "start_time": "2022-04-08T23:09:18.821844Z"
    },
    "code_folding": []
   },
   "outputs": [
    {
     "data": {
      "application/vnd.jupyter.widget-view+json": {
       "model_id": "bc32692bb98f43519970d8ec310d5a8b",
       "version_major": 2,
       "version_minor": 0
      },
      "text/plain": [
       "interactive(children=(Dropdown(description='path', options=('Instance_2.xls', 'Instance.xls'), value='Instance…"
      ]
     },
     "metadata": {},
     "output_type": "display_data"
    }
   ],
   "source": [
    "# Run ACO\n",
    "@interact_manual\n",
    "def run_aco(path=os.listdir('input/'),C0='82',E0='820',n_ants='10',n_iterations='100'):\n",
    "    run_aco.solution_history = {}\n",
    "    run_aco.shortest_path = {}\n",
    "    path = 'input/' + path#\"input/Instance.xls\"\n",
    "    subsystems,LOLP, max_lolp = read_instance(path,precision=10)\n",
    "\n",
    "    ant_colony = AntColony(subsystems,LOLP, C0= int(C0), E0 = int(E0), n_ants = int(n_ants), n_best= 3,\n",
    "            n_iterations = int(n_iterations), alpha= 1, beta= 0.8, gamma= 0.2, max_devices = 8, evaporation=0.4,\n",
    "            precision=10, q0 = 0.3, best_ants = 0)\n",
    "\n",
    "    print(\"Solving begins ...\")\n",
    "    run_aco.shortest_path, run_aco.solution_history = ant_colony.solve()\n",
    "    print (\"Shortest path: \")\n",
    "    run_aco.subsystems = subsystems\n",
    "    write_solution(run_aco.shortest_path,len(subsystems),subsystems)"
   ]
  },
  {
   "cell_type": "code",
   "execution_count": 26,
   "metadata": {
    "ExecuteTime": {
     "end_time": "2022-04-08T23:10:00.525595Z",
     "start_time": "2022-04-08T23:10:00.276962Z"
    },
    "code_folding": []
   },
   "outputs": [
    {
     "data": {
      "application/vnd.jupyter.widget-view+json": {
       "model_id": "14fc118770a24af9a7422787dbb7679f",
       "version_major": 2,
       "version_minor": 0
      },
      "text/plain": [
       "interactive(children=(Dropdown(description='column1', options=('availability', 'cost', 'capacity'), value='ava…"
      ]
     },
     "metadata": {},
     "output_type": "display_data"
    }
   ],
   "source": [
    "# Plot Two Graphs\n",
    "solution_history = run_aco.solution_history\n",
    "shortest_path = run_aco.shortest_path\n",
    "subsystems = run_aco.subsystems \n",
    "@interact\n",
    "def plot_two_graphs(column1=[\"availability\",\"cost\",\"capacity\"],column2=[\"cost\",\"availability\",\"capacity\"]):\n",
    "    \n",
    "    fig, ax1 = plt.subplots(figsize=(15, 10))\n",
    "\n",
    "    data1 = solution_history[column1]\n",
    "    data2 = solution_history[column2]\n",
    "\n",
    "    t = range(len(data1))\n",
    "\n",
    "    color = 'tab:green'\n",
    "    ax1.set_xlabel('Iterations ', fontsize=20)\n",
    "    ax1.set_ylabel(\"Capacité\", color=color, fontsize=20)\n",
    "    ax1.plot(t, data1, color=color,label=column1)\n",
    "    ax1.tick_params(axis='y', labelcolor=color, labelsize=15)\n",
    "    ax1.tick_params(axis='x', labelsize=15)\n",
    "\n",
    "    ax2 = ax1.twinx()  # instantiate a second axes that shares the same x-axis\n",
    "\n",
    "    color = 'tab:red'\n",
    "    ax2.set_ylabel(\"Fiabilité\", color=color, fontsize=20)  # we already handled the x-label with ax1\n",
    "    ax2.plot(t, data2, color=color, label=column2)\n",
    "    ax2.tick_params(axis='y', labelcolor=color, labelsize=15)\n",
    "    \n",
    "    \n",
    "    fig.tight_layout()  # otherwise the right y-label is slightly clipped\n",
    "    plt.legend()\n",
    "    plt.grid(True)\n",
    "    plt.show()"
   ]
  },
  {
   "cell_type": "code",
   "execution_count": 27,
   "metadata": {
    "ExecuteTime": {
     "end_time": "2022-04-08T23:10:21.644422Z",
     "start_time": "2022-04-08T23:10:21.423063Z"
    },
    "code_folding": [],
    "scrolled": false
   },
   "outputs": [
    {
     "data": {
      "application/vnd.jupyter.widget-view+json": {
       "model_id": "a140ec54aa13450f89c10a8d2375b76e",
       "version_major": 2,
       "version_minor": 0
      },
      "text/plain": [
       "interactive(children=(Dropdown(description='y', options=('availability', 'cost', 'capacity'), value='availabil…"
      ]
     },
     "metadata": {},
     "output_type": "display_data"
    }
   ],
   "source": [
    "# Plot one Graph\n",
    "\n",
    "all_solutions = solution_history[\"solutions\"]\n",
    "#del solution_history[\"solutions\"]\n",
    "\n",
    "df = pd.DataFrame.from_dict(solution_history)\n",
    "\n",
    "@interact\n",
    "def scatter_plot(y=list(df.select_dtypes('number').columns)[1:]):\n",
    "    \n",
    "    fig, ax1 = plt.subplots(figsize=(20, 15))\n",
    "\n",
    "    data = solution_history[y]\n",
    "    t = range(len(data))\n",
    "    \n",
    "    color = 'tab:green'\n",
    "    ax1.set_xlabel('Iterations ', fontsize=20)\n",
    "    ax1.set_ylabel(\"Capacité\", color=color, fontsize=20)  # we already handled the x-label with ax1\n",
    "    ax1.plot(t, data, color=color, label=y)\n",
    "    ax1.tick_params(axis='y', labelcolor=color, labelsize=15)\n",
    "    \n",
    "    \n",
    "    fig.tight_layout()  # otherwise the right y-label is slightly clipped\n",
    "    plt.legend()\n",
    "    plt.grid(True)\n",
    "    plt.show()"
   ]
  },
  {
   "cell_type": "code",
   "execution_count": 24,
   "metadata": {
    "ExecuteTime": {
     "end_time": "2022-04-08T23:09:12.864564Z",
     "start_time": "2022-04-08T23:09:12.728852Z"
    },
    "code_folding": []
   },
   "outputs": [
    {
     "name": "stderr",
     "output_type": "stream",
     "text": [
      "<ipython-input-24-8f6d0de1b278>:6: FutureWarning: Passing a negative integer is deprecated in version 1.0 and will not be supported in future version. Instead, use None to not limit the column width.\n",
      "  pd.set_option('max_colwidth', -1)\n"
     ]
    },
    {
     "data": {
      "application/vnd.jupyter.widget-view+json": {
       "model_id": "08ab91a121fb41a8be01b1c771262780",
       "version_major": 2,
       "version_minor": 0
      },
      "text/plain": [
       "interactive(children=(Dropdown(description='column', options=('availability', 'cost', 'capacity'), value='avai…"
      ]
     },
     "metadata": {},
     "output_type": "display_data"
    }
   ],
   "source": [
    "# Explore Solutions 1\n",
    "\n",
    "\n",
    "pd.set_option('display.max_columns', None)  \n",
    "pd.set_option('display.expand_frame_repr', False)\n",
    "pd.set_option('max_colwidth', -1)\n",
    "\n",
    "@interact\n",
    "def show_articles_more_than(column=['availability','cost','capacity'], x=(97.5,100,0.1)):\n",
    "    return df.loc[df[column] > (x/100)]"
   ]
  },
  {
   "cell_type": "code",
   "execution_count": 14,
   "metadata": {
    "ExecuteTime": {
     "end_time": "2022-04-08T22:56:27.498474Z",
     "start_time": "2022-04-08T22:56:27.454462Z"
    },
    "code_folding": [],
    "scrolled": true
   },
   "outputs": [
    {
     "data": {
      "application/vnd.jupyter.widget-view+json": {
       "model_id": "cd43d12f4ab14b6eaabc40c174ce13bd",
       "version_major": 2,
       "version_minor": 0
      },
      "text/plain": [
       "interactive(children=(Dropdown(description='column', options=('availability', 'capacity'), value='availability…"
      ]
     },
     "metadata": {},
     "output_type": "display_data"
    }
   ],
   "source": [
    "# Explore Solutions 2\n",
    "@interact\n",
    "def show_articles_more_than(column=['availability','capacity'], x=(97.5,100,0.1)):\n",
    "    return df.iloc[df[df[\"availability\"]> (x/100)][\"cost\"].argmin()]\n"
   ]
  },
  {
   "cell_type": "code",
   "execution_count": 28,
   "metadata": {
    "ExecuteTime": {
     "end_time": "2022-04-08T23:10:58.664612Z",
     "start_time": "2022-04-08T23:10:58.651450Z"
    }
   },
   "outputs": [
    {
     "name": "stdout",
     "output_type": "stream",
     "text": [
      "Subsystem  1 [3, 4, 6, 8, 9, 9]\n",
      "Subsystem  2 [1, 2, 3, 3, 4, 5, 5]\n",
      "Subsystem  3 [1, 1, 2, 3, 3, 4]\n",
      "Subsystem  4 [1, 1, 1, 3, 4, 5, 8, 8]\n",
      "Subsystem  5 [1, 2, 2, 2, 3, 3, 4, 5]\n",
      "Availability :  0.0639\n",
      "Cost :  63.292\n",
      "Capacity :  830.62\n"
     ]
    }
   ],
   "source": [
    "write_solution(all_solutions[0],len(subsystems),subsystems)"
   ]
  },
  {
   "cell_type": "code",
   "execution_count": null,
   "metadata": {},
   "outputs": [],
   "source": []
  }
 ],
 "metadata": {
  "kernelspec": {
   "display_name": "Python 3",
   "language": "python",
   "name": "python3"
  },
  "language_info": {
   "codemirror_mode": {
    "name": "ipython",
    "version": 3
   },
   "file_extension": ".py",
   "mimetype": "text/x-python",
   "name": "python",
   "nbconvert_exporter": "python",
   "pygments_lexer": "ipython3",
   "version": "3.8.5"
  },
  "varInspector": {
   "cols": {
    "lenName": 16,
    "lenType": 16,
    "lenVar": 40
   },
   "kernels_config": {
    "python": {
     "delete_cmd_postfix": "",
     "delete_cmd_prefix": "del ",
     "library": "var_list.py",
     "varRefreshCmd": "print(var_dic_list())"
    },
    "r": {
     "delete_cmd_postfix": ") ",
     "delete_cmd_prefix": "rm(",
     "library": "var_list.r",
     "varRefreshCmd": "cat(var_dic_list()) "
    }
   },
   "types_to_exclude": [
    "module",
    "function",
    "builtin_function_or_method",
    "instance",
    "_Feature"
   ],
   "window_display": false
  }
 },
 "nbformat": 4,
 "nbformat_minor": 2
}
